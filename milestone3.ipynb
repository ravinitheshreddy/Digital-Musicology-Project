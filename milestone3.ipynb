{
 "cells": [
  {
   "cell_type": "markdown",
   "id": "early-calendar",
   "metadata": {},
   "source": [
    "# Modal organization in Chinese Folks songs\n",
    "-----------\n",
    "## Digital Musicology - Milestone 3\n",
    "-------"
   ]
  },
  {
   "cell_type": "code",
   "execution_count": 1,
   "id": "constant-geneva",
   "metadata": {},
   "outputs": [],
   "source": [
    "# Imports \n",
    "\n",
    "from music21 import *\n",
    "import glob\n",
    "from tqdm import tqdm\n",
    "import seaborn as sns\n",
    "from matplotlib import pyplot as plt\n",
    "import pandas as pd\n",
    "from collections import Counter, OrderedDict\n",
    "from geopy.geocoders import Nominatim\n",
    "import re\n",
    "import folium\n",
    "import networkx as nx\n",
    "\n",
    "# Users should modify the MuseScore_PATH with the path to MuseScore on their own device\n",
    "\n",
    "MuseScore_PATH = 'C:\\Program Files\\MuseScore3\\\\bin\\\\MuseScore3.exe'\n",
    "\n",
    "environment.set('musescoreDirectPNGPath', MuseScore_PATH)"
   ]
  },
  {
   "cell_type": "markdown",
   "id": "conditional-browse",
   "metadata": {},
   "source": [
    "### Research Questions"
   ]
  },
  {
   "cell_type": "markdown",
   "id": "declared-journey",
   "metadata": {},
   "source": [
    "#### Tonic\n",
    "\n",
    "##### Definition\n",
    "\n",
    "**TBD: Write cleaner definition**\n",
    "\n",
    "For this project, we define the tonic as a central pitch, i.e. the most recurring pitch that has a high duration (multiplied with beat strength) or the pitch that ends the piece.\n",
    "\n",
    "\n",
    "#### Formula\n",
    "\n",
    "**TBD: Repharse the algorithm explanantion and add a mathematical formula**\n",
    "\n",
    "It computes a centrality for each pitch based on the pitch duration and the beat strength. Additionally, the last pitch of the piece gets added weight proportional to the song's length. The note with the highest score is then determined as the tonic. "
   ]
  },
  {
   "cell_type": "code",
   "execution_count": 2,
   "id": "essential-cigarette",
   "metadata": {},
   "outputs": [],
   "source": [
    "def get_tonic_and_pitch_classes(score):\n",
    "    \"\"\"\n",
    "    This function accepts a score and returns its tonic, pitch classes, and 5 most central pitches,\n",
    "    using the method described above.\n",
    "    \"\"\"\n",
    "    try:\n",
    "        note_scores = dict()\n",
    "        length = 0\n",
    "        for part in score.parts:\n",
    "            for measure in part:\n",
    "                if type(measure) is not stream.Measure:\n",
    "                    continue\n",
    "                for note_ in measure:\n",
    "                    if type(note_) is not note.Note:\n",
    "                        continue\n",
    "                    length += 1\n",
    "                    if note_.name in note_scores.keys():\n",
    "                        note_scores[note_.name] += note_.duration.quarterLength * note_.beatStrength\n",
    "                    else:\n",
    "                        note_scores[note_.name] = note_.duration.quarterLength * note_.beatStrength\n",
    "                    last_note = note_.name\n",
    "        note_scores[last_note] += 0.1 * length\n",
    "        tonic = max(note_scores, key=note_scores.get)\n",
    "    except:\n",
    "        tonic = None\n",
    "\n",
    "    pitchclasses = list(note_scores.keys())\n",
    "    top5 = sorted(note_scores, key=note_scores.get, reverse=True)[:5]\n",
    "    return tonic, pitchclasses, top5"
   ]
  },
  {
   "cell_type": "markdown",
   "id": "broadband-princeton",
   "metadata": {},
   "source": [
    "### Mode\n",
    "\n",
    "#### Definition\n",
    "\n",
    "**TBD: Repharse the definition**\n",
    "\n",
    "In Chinese music, we distinguish the 5 following modes with their five notes when transposed to C[[4]](https://digitalcommons.lsu.edu/cgi/viewcontent.cgi?article=2761&context=gradschool_dissertations):\n",
    "* 宮 (gong, C) mode \\[C D E G A\\]\n",
    "* 商 (shang, D) mode \\[C D F G B<sub>b</sub>\\]\n",
    "* 角 (jue, E) mode \\[C E<sub>b</sub> F A<sub>b</sub> B<sub>b</sub>\\]\n",
    "* 徵 (zhi, G) mode \\[C D F G A\\]\n",
    "* 羽 (yu, A) mode \\[C E<sub>b</sub> F G B<sub>b</sub>\\]\n",
    "\n",
    "Using this information, we then develop a function below that decides whether the 5 most central pitches of a piece indeed belong to one of these modes.\n",
    "\n",
    "#### Formula\n",
    "\n",
    "**TBD: Write the algorithm explanantion and add a mathematical formula**\n"
   ]
  },
  {
   "cell_type": "code",
   "execution_count": 3,
   "id": "still-knitting",
   "metadata": {},
   "outputs": [],
   "source": [
    "def get_mode(top5_pitches):\n",
    "    if set(top5_pitches).issubset(['C', 'D', 'E', 'G', 'A']):\n",
    "        return \"gong\"\n",
    "    if set(top5_pitches).issubset(['C', 'D', 'F', 'G', 'B-']):\n",
    "        return \"shang\"\n",
    "    if set(top5_pitches).issubset(['C', 'E-', 'F', 'A-', 'B-']):\n",
    "        return \"jue\"\n",
    "    if set(top5_pitches).issubset(['C', 'D', 'F', 'G', 'A']):\n",
    "        return \"zhi\"\n",
    "    if set(top5_pitches).issubset(['C', 'E-', 'F', 'G', 'B-']):\n",
    "        return \"yu\"\n",
    "    return None"
   ]
  },
  {
   "cell_type": "markdown",
   "id": "silver-statistics",
   "metadata": {},
   "source": [
    "### Score Loading"
   ]
  },
  {
   "cell_type": "code",
   "execution_count": 4,
   "id": "spectacular-lebanon",
   "metadata": {},
   "outputs": [],
   "source": [
    "regions = [\"han\", \"natmin\", \"shanxi\", \"xinhua\"]"
   ]
  },
  {
   "cell_type": "markdown",
   "id": "developmental-trailer",
   "metadata": {},
   "source": [
    "We then define the function below that returns all *\\*\\*kern* scores in the given `path`, parsed with `music21`'s function."
   ]
  },
  {
   "cell_type": "code",
   "execution_count": 5,
   "id": "peripheral-bicycle",
   "metadata": {},
   "outputs": [],
   "source": [
    "def load_scores(path):\n",
    "    \"\"\"\n",
    "    The function accepts a path and loads the .krn files in the path into a list.\n",
    "    The pieces that are successfully parsed by the music21 parsers are stored in the scores list.\n",
    "    In case the parser fails to load any file, they are stored in failed_scores.\n",
    "    The count of total scores and failed scores are stores in total and failed counters.\n",
    "    \"\"\"\n",
    "\n",
    "    pieces = {\"scores\": [], \"failed_scores\": [], \"total\": 0, \"failed\": 0}\n",
    "    for file in tqdm(glob.glob(path+\"/*.krn\")):\n",
    "        pieces[\"total\"] += 1\n",
    "        try:\n",
    "            pieces[\"scores\"].append(converter.parse(file))\n",
    "        except:\n",
    "            pieces[\"failed\"] += 1 \n",
    "            pieces[\"failed_scores\"].append(converter.parse(file))\n",
    "\n",
    "    return pieces"
   ]
  },
  {
   "cell_type": "markdown",
   "id": "related-encoding",
   "metadata": {},
   "source": [
    "We can now iterate over the four regions, also corresponding to the four folders, and use the `load_score` function defined above to retrieve all scores of our dataset."
   ]
  },
  {
   "cell_type": "code",
   "execution_count": 6,
   "id": "disabled-ecuador",
   "metadata": {},
   "outputs": [
    {
     "name": "stderr",
     "output_type": "stream",
     "text": [
      "100%|██████████| 1223/1223 [00:10<00:00, 114.74it/s]\n",
      "100%|██████████| 206/206 [00:02<00:00, 69.38it/s] \n",
      "100%|██████████| 802/802 [00:05<00:00, 135.81it/s]\n",
      "100%|██████████| 10/10 [00:00<00:00, 127.59it/s]\n"
     ]
    }
   ],
   "source": [
    "# A dictionary to store the music scores belonging to the 4 regions of the CFS as per the dataset.\n",
    "# The key is the name of the region and the value is dictionay with keys corresponding to scores,\n",
    "# failed_scores - Representing scores that have not loaded properly,\n",
    "# total - representing the total number of scores of that region and failed - representing the total number of scores that have failed to be parsed.\n",
    "\n",
    "music_data = {}\n",
    "\n",
    "for region in regions:\n",
    "    music_data[region] = load_scores(\"./data/\" + region)"
   ]
  },
  {
   "cell_type": "markdown",
   "id": "unexpected-attribute",
   "metadata": {},
   "source": [
    "### Methods"
   ]
  },
  {
   "cell_type": "markdown",
   "id": "innocent-carol",
   "metadata": {
    "tags": []
   },
   "source": [
    "we define our regional categories using the following map and call them geographical divisions:\n",
    "\n",
    "![map](img/map.JPG)"
   ]
  },
  {
   "cell_type": "code",
   "execution_count": 7,
   "id": "silent-antigua",
   "metadata": {},
   "outputs": [
    {
     "data": {
      "text/html": [
       "<div>\n",
       "<style scoped>\n",
       "    .dataframe tbody tr th:only-of-type {\n",
       "        vertical-align: middle;\n",
       "    }\n",
       "\n",
       "    .dataframe tbody tr th {\n",
       "        vertical-align: top;\n",
       "    }\n",
       "\n",
       "    .dataframe thead th {\n",
       "        text-align: right;\n",
       "    }\n",
       "</style>\n",
       "<table border=\"1\" class=\"dataframe\">\n",
       "  <thead>\n",
       "    <tr style=\"text-align: right;\">\n",
       "      <th></th>\n",
       "      <th>region</th>\n",
       "      <th>title</th>\n",
       "      <th>location</th>\n",
       "      <th>tonic</th>\n",
       "      <th>pitches</th>\n",
       "      <th>num_notes</th>\n",
       "      <th>pitchclasses</th>\n",
       "      <th>num_pitchclasses</th>\n",
       "      <th>tonic_transposed</th>\n",
       "      <th>pitches_transposed</th>\n",
       "      <th>pitchclasses_transposed</th>\n",
       "      <th>top5_after_transpose</th>\n",
       "      <th>mode</th>\n",
       "      <th>geo_division</th>\n",
       "    </tr>\n",
       "  </thead>\n",
       "  <tbody>\n",
       "    <tr>\n",
       "      <th>0</th>\n",
       "      <td>han</td>\n",
       "      <td>Renmin gongshe shizai hao</td>\n",
       "      <td>Asia, China, Shanxi, Zizhou</td>\n",
       "      <td>D</td>\n",
       "      <td>[D5, A4, C5, D5, D5, A4, C5, D5, G5, C5, A4, G...</td>\n",
       "      <td>64</td>\n",
       "      <td>[D, A, C, G, E, F#]</td>\n",
       "      <td>6</td>\n",
       "      <td>C</td>\n",
       "      <td>[C5, G4, B-4, C5, C5, G4, B-4, C5, F5, B-4, G4...</td>\n",
       "      <td>[C, G, B-, F, D, E]</td>\n",
       "      <td>[C, B-, F, G, D]</td>\n",
       "      <td>shang</td>\n",
       "      <td>Northwest</td>\n",
       "    </tr>\n",
       "    <tr>\n",
       "      <th>1</th>\n",
       "      <td>han</td>\n",
       "      <td>Zanmen de ling xiu Mao Zedong</td>\n",
       "      <td>Asia, China, Shanxi Nordwesten</td>\n",
       "      <td>C</td>\n",
       "      <td>[C5, C5, F5, C5, B-4, G4, C5, E-4, F4, G4, C5,...</td>\n",
       "      <td>57</td>\n",
       "      <td>[C, F, B-, G, E-, D, A]</td>\n",
       "      <td>7</td>\n",
       "      <td>C</td>\n",
       "      <td>[C5, C5, F5, C5, B-4, G4, C5, E-4, F4, G4, C5,...</td>\n",
       "      <td>[C, F, B-, G, E-, D, A]</td>\n",
       "      <td>[C, G, F, E-, D]</td>\n",
       "      <td>NaN</td>\n",
       "      <td>Northwest</td>\n",
       "    </tr>\n",
       "    <tr>\n",
       "      <th>2</th>\n",
       "      <td>han</td>\n",
       "      <td>Tian xin shun</td>\n",
       "      <td>Asia, China, Shanxi Yanchang</td>\n",
       "      <td>D</td>\n",
       "      <td>[D5, A4, D5, D5, A4, D5, A4, D5, G4, E4, D4, D...</td>\n",
       "      <td>24</td>\n",
       "      <td>[D, A, G, E, B]</td>\n",
       "      <td>5</td>\n",
       "      <td>C</td>\n",
       "      <td>[C5, G4, C5, C5, G4, C5, G4, C5, F4, D4, C4, C...</td>\n",
       "      <td>[C, G, F, D, A]</td>\n",
       "      <td>[C, G, F, D, A]</td>\n",
       "      <td>zhi</td>\n",
       "      <td>Northwest</td>\n",
       "    </tr>\n",
       "    <tr>\n",
       "      <th>3</th>\n",
       "      <td>han</td>\n",
       "      <td>Liu zhi dan</td>\n",
       "      <td>Asia, China, Shanxi Shanbei</td>\n",
       "      <td>B-</td>\n",
       "      <td>[E-5, C5, B-4, A-4, B-4, E-4, F4, E-5, C5, B-4...</td>\n",
       "      <td>41</td>\n",
       "      <td>[E-, C, B-, A-, F]</td>\n",
       "      <td>5</td>\n",
       "      <td>C</td>\n",
       "      <td>[F4, D4, C4, B-3, C4, F3, G3, F4, D4, C4, B-3,...</td>\n",
       "      <td>[F, D, C, B-, G]</td>\n",
       "      <td>[C, F, G, B-, D]</td>\n",
       "      <td>shang</td>\n",
       "      <td>Northwest</td>\n",
       "    </tr>\n",
       "    <tr>\n",
       "      <th>4</th>\n",
       "      <td>han</td>\n",
       "      <td>Zanmen de hongjun shi li zhong</td>\n",
       "      <td>Asia, China, Shanxi Shanbei</td>\n",
       "      <td>E</td>\n",
       "      <td>[E5, E4, A4, G4, A4, B4, E5, D5, E5, B4, E5, E...</td>\n",
       "      <td>24</td>\n",
       "      <td>[E, A, G, B, D]</td>\n",
       "      <td>5</td>\n",
       "      <td>C</td>\n",
       "      <td>[C5, C4, F4, E-4, F4, G4, C5, B-4, C5, G4, C5,...</td>\n",
       "      <td>[C, F, E-, G, B-]</td>\n",
       "      <td>[C, G, F, B-, E-]</td>\n",
       "      <td>yu</td>\n",
       "      <td>Northwest</td>\n",
       "    </tr>\n",
       "  </tbody>\n",
       "</table>\n",
       "</div>"
      ],
      "text/plain": [
       "  region                           title                        location  \\\n",
       "0    han       Renmin gongshe shizai hao     Asia, China, Shanxi, Zizhou   \n",
       "1    han   Zanmen de ling xiu Mao Zedong  Asia, China, Shanxi Nordwesten   \n",
       "2    han                   Tian xin shun    Asia, China, Shanxi Yanchang   \n",
       "3    han                     Liu zhi dan     Asia, China, Shanxi Shanbei   \n",
       "4    han  Zanmen de hongjun shi li zhong     Asia, China, Shanxi Shanbei   \n",
       "\n",
       "  tonic                                            pitches  num_notes  \\\n",
       "0     D  [D5, A4, C5, D5, D5, A4, C5, D5, G5, C5, A4, G...         64   \n",
       "1     C  [C5, C5, F5, C5, B-4, G4, C5, E-4, F4, G4, C5,...         57   \n",
       "2     D  [D5, A4, D5, D5, A4, D5, A4, D5, G4, E4, D4, D...         24   \n",
       "3    B-  [E-5, C5, B-4, A-4, B-4, E-4, F4, E-5, C5, B-4...         41   \n",
       "4     E  [E5, E4, A4, G4, A4, B4, E5, D5, E5, B4, E5, E...         24   \n",
       "\n",
       "              pitchclasses  num_pitchclasses tonic_transposed  \\\n",
       "0      [D, A, C, G, E, F#]                 6                C   \n",
       "1  [C, F, B-, G, E-, D, A]                 7                C   \n",
       "2          [D, A, G, E, B]                 5                C   \n",
       "3       [E-, C, B-, A-, F]                 5                C   \n",
       "4          [E, A, G, B, D]                 5                C   \n",
       "\n",
       "                                  pitches_transposed  pitchclasses_transposed  \\\n",
       "0  [C5, G4, B-4, C5, C5, G4, B-4, C5, F5, B-4, G4...      [C, G, B-, F, D, E]   \n",
       "1  [C5, C5, F5, C5, B-4, G4, C5, E-4, F4, G4, C5,...  [C, F, B-, G, E-, D, A]   \n",
       "2  [C5, G4, C5, C5, G4, C5, G4, C5, F4, D4, C4, C...          [C, G, F, D, A]   \n",
       "3  [F4, D4, C4, B-3, C4, F3, G3, F4, D4, C4, B-3,...         [F, D, C, B-, G]   \n",
       "4  [C5, C4, F4, E-4, F4, G4, C5, B-4, C5, G4, C5,...        [C, F, E-, G, B-]   \n",
       "\n",
       "  top5_after_transpose   mode geo_division  \n",
       "0     [C, B-, F, G, D]  shang    Northwest  \n",
       "1     [C, G, F, E-, D]    NaN    Northwest  \n",
       "2      [C, G, F, D, A]    zhi    Northwest  \n",
       "3     [C, F, G, B-, D]  shang    Northwest  \n",
       "4    [C, G, F, B-, E-]     yu    Northwest  "
      ]
     },
     "execution_count": 7,
     "metadata": {},
     "output_type": "execute_result"
    }
   ],
   "source": [
    "CFS_full = pd.read_csv(\"./data/dataframes/cfs_full.csv\", converters={'pitches': eval,'pitchclasses': eval,'pitches_transposed': eval,'pitchclasses_transposed': eval,'top5_after_transpose': eval})\n",
    "CFS_full.head()"
   ]
  },
  {
   "cell_type": "markdown",
   "id": "disabled-visibility",
   "metadata": {},
   "source": [
    "## 2.2 Exploring regional differences\n",
    "\n",
    "In this subsection we will explore the data in order to get insight on our research questions. We hypothesized that we could find notable differences in the modal organization of the songs of different regions(divisions). Therefore, in the following sections, we will group the songs by division, apply methods for each group, and compare the results.\n",
    "\n",
    "### 2.2.1 Pitch statistics\n",
    "\n",
    "In this subsection, we plot the combined pitch and scale degrees distributions of all the pieces combined for each division.\n",
    "\n",
    "To do so, we first create empty dictionaries to store the pitches and scale degrees before and after transposition with division name as key and values as a list of pitches/scale degrees of all pieces belonging to that division."
   ]
  },
  {
   "cell_type": "code",
   "execution_count": 8,
   "id": "thrown-forwarding",
   "metadata": {},
   "outputs": [],
   "source": [
    "# The manually annotated geographic divisions\n",
    "geo_divisions = [\"Northwest\", \"Central\", \"Southwest\", \"Northeast\", \"Jiangzhe\", \"Southeast\", \"Neimeng\", \"Jiang\"]\n",
    "pitch_classes_list = ['A', 'A#', 'A-', 'B', 'B#', 'B-', 'C', 'C#', 'C-', 'D', 'D#', 'D-', 'E', 'E#', 'E-', 'F', 'F#', 'G', 'G#', 'G-']"
   ]
  },
  {
   "cell_type": "code",
   "execution_count": null,
   "id": "usual-bronze",
   "metadata": {},
   "outputs": [],
   "source": [
    "# Empty dictionaries to store pitches and \n",
    "region_pitch_stat = {}\n",
    "region_scaledegree_stat = {}\n",
    "region_pitch_transposed_stat = {}\n",
    "region_scaledegree_transposed_stat = {}\n",
    "region_tonic_stat = {}\n",
    "\n",
    "scaledegree_defcount = {pc:0 for pc in pitch_classes_list}\n",
    "pitchclass_transitions_defcount = {pc1:{pc2:0 for pc2 in pitch_classes_list} for pc1 in pitch_classes_list}\n",
    "\n",
    "for gloc in geo_divisions: \n",
    "    region_df = CFS_full[CFS_full[\"geo_division\"]==gloc]\n",
    "    region_pitch_stat[gloc] = sum(region_df[\"pitches\"].tolist(), [])\n",
    "    region_scaledegree_stat[gloc] = sum(region_df[\"pitchclasses\"].tolist(), [])\n",
    "    region_pitch_transposed_stat[gloc] = sum(region_df[\"pitches_transposed\"].tolist(), [])\n",
    "    region_scaledegree_transposed_stat[gloc] = sum(region_df[\"pitchclasses_transposed\"].tolist(), [])\n",
    "    region_tonic_stat[gloc] = region_df[\"tonic\"].tolist()"
   ]
  },
  {
   "cell_type": "code",
   "execution_count": null,
   "id": "alike-comparative",
   "metadata": {},
   "outputs": [],
   "source": [
    "plt.rcParams[\"figure.figsize\"] = (20,5)\n",
    "\n",
    "region_pitch_counts = {}\n",
    "for gloc in region_pitch_stat:\n",
    "    \n",
    "    counter = Counter(region_pitch_stat[gloc])\n",
    "#     pitch_fractions = {i:counter[i] / len(region_pitch_stat[gloc]) for i in counter}\n",
    "    pitch_fractions = {i:counter[i] for i in counter}\n",
    "    region_pitch_counts[gloc] = sorted(pitch_fractions.items(), key=lambda pair: pair[0])\n",
    "    \n",
    "    x, y = zip(*region_pitch_counts[gloc])\n",
    "    \n",
    "    plt.bar(x, y, color='black')\n",
    "    plt.title(\"Pitch stats of {} region pieces\".format(gloc))\n",
    "    plt.show()"
   ]
  },
  {
   "cell_type": "markdown",
   "id": "inner-promise",
   "metadata": {},
   "source": [
    "By comparing each of these plots, we can get a first comparison of the pieces of each region. The first striking observation is that these distributions look similar across the regions. Indeed, we notice that A4, B4, C5, D5, and G4 are dominant in most regions. However, we can also observe differences. For instance, B4 is barely used in the Neimeng region compared to all the other ones.\n",
    "\n",
    "These remarks give some first insight to our hypothesis: on average, there is no striking difference in the use of pitches across different regions of China. However, further analysis is required to determine the implications of the fluctuations."
   ]
  },
  {
   "cell_type": "markdown",
   "id": "particular-establishment",
   "metadata": {},
   "source": [
    "### 2.2.2 Pitch class statistics\n",
    "In the previous subsection, we compared the use of pitches across regions. As an additional comparison, we now plot the distribution of pitch class across regions.\n",
    "\n",
    "For this visualization, we decided to sort the pitch classes by occurrences rather than alphabetically."
   ]
  },
  {
   "cell_type": "code",
   "execution_count": null,
   "id": "comic-transcript",
   "metadata": {},
   "outputs": [],
   "source": [
    "plt.rcParams[\"figure.figsize\"] = (20,20)\n",
    "region_scaledegree_counts = {}\n",
    "fig, axarr = plt.subplots(4,2)\n",
    "\n",
    "for gloc,ax in zip(region_scaledegree_stat, axarr.flat):\n",
    "    \n",
    "    counter = Counter(region_scaledegree_stat[gloc])\n",
    "#     scaledegree_fractions = {i:counter[i] / len(region_scaledegree_stat[gloc]) for i in counter}\n",
    "    scaledegree_fractions = {i:counter[i] for i in counter}\n",
    "    scaledegree_fractions = {**scaledegree_defcount, **scaledegree_fractions}\n",
    "    region_scaledegree_counts[gloc] = sorted(scaledegree_fractions.items(), key=lambda pair: -pair[1])\n",
    "    x, y = zip(*region_scaledegree_counts[gloc])\n",
    "    ax.bar(x, y, color='black')\n",
    "    ax.set_title(\"Pitch classes stats of {} region pieces\".format(gloc))"
   ]
  },
  {
   "cell_type": "markdown",
   "id": "exempt-round",
   "metadata": {},
   "source": [
    "A visual comparison of these plots again reveals a great similarity between all regions as `A`, `D` and `E` most often closely compete for the three most used pitch classes. However, we notice once again a significant difference in the Neimeng region, where there is a drop after the 5 most used pitch classes.\n",
    "\n",
    "These results once again go against our hypothesis. However, the singular example of the Neimeng region must be remembered for the rest of the analysis.\n",
    "\n",
    "A visual comparison of these plots again reveals a great similarity between all regions as `A`, `D` and `E` most often closely compete for the three most used pitch classes. However, we notice once again a significant difference in the Neimeng region, where there is a drop after the 5 most used pitch classes.\n",
    "\n",
    "These results once again go against our hypothesis. However, the singular example of the Neimeng region must be remembered for the rest of the analysis.\n",
    "\n",
    "### 2.2.3 Scale degrees statistics\n",
    "In our research questions, we were particularly interested in the organization of the piece around the central pitch. For that reason, we transposed all pieces to C relatively to their tonic. Analyzing the pitches of these transposed scores reveals information about the use of scale degrees.\n",
    "\n",
    "As a first analysis, we plot the distribution of use of scale degrees by simply counting them. Note that for simplicity, instead of labeling the plots with scale degrees, they are simply labeled with their pitch class relative to C. Therefore G is V, D is II, etc..."
   ]
  },
  {
   "cell_type": "code",
   "execution_count": null,
   "id": "sacred-grounds",
   "metadata": {},
   "outputs": [],
   "source": [
    "plt.rcParams[\"figure.figsize\"] = (20, 20)\n",
    "fig, axarr = plt.subplots(4,2)\n",
    "\n",
    "region_scaledegree_transposed_counts = {}\n",
    "\n",
    "for gloc, ax in zip(region_scaledegree_transposed_stat, axarr.flat):\n",
    "    \n",
    "    counter = Counter(region_scaledegree_transposed_stat[gloc])\n",
    "#     scaledegree_transposed_fractions = {i:counter[i] / len(region_scaledegree_transposed_stat[gloc]) for i in counter}\n",
    "    scaledegree_transposed_fractions = {i:counter[i] for i in counter}\n",
    "    scaledegree_transposed_fractions = {**scaledegree_defcount, **scaledegree_transposed_fractions}\n",
    "    region_scaledegree_transposed_counts[gloc] = sorted(scaledegree_transposed_fractions.items(), key=lambda pair: -pair[1])\n",
    "    x, y = zip(*region_scaledegree_transposed_counts[gloc])\n",
    "    ax.bar(x, y, color='black')\n",
    "    ax.set_title(\"Pitchclass Stats of {} region pieces after transposing to C\".format(gloc))"
   ]
  },
  {
   "cell_type": "markdown",
   "id": "wired-presentation",
   "metadata": {},
   "source": [
    "These plots reveal that the distributions of use of scale degrees across regions are vastly similar, thus once again refuting our initial hypothesis. However, it is interesting to note that like in Western music, the fifth and fourth are the most dominant scale degrees.\n",
    "\n",
    "### 2.2.4 Pitch Classes Transitions\n",
    "\n",
    "Another means to compare the organization of songs of different divisions is to look at the transitions between the pitches. Comparing these transitions will reveal whether the folks preferred certain pitch transitions to others and may show significant differences across regions.\n",
    "\n",
    "For this purpose, we create a dictionary to store the count of transitions of the pitch classes in all pieces belonging to one division. The name of the division is the key of the mentioned dictionary and the value is a nested dictionary with keys as the starting pitch class and the values as dictionaries with key as the transitioned pitch class and value as the count of such occurrence."
   ]
  },
  {
   "cell_type": "code",
   "execution_count": null,
   "id": "prime-improvement",
   "metadata": {},
   "outputs": [],
   "source": [
    "pitchclass_transition = {geo_region: {} for geo_region in geo_divisions}\n",
    "\n",
    "for gloc in tqdm(music_data):\n",
    "    \n",
    "    for score in music_data[gloc][\"scores\"]:\n",
    "        region = CFS_full[CFS_full[\"title\"] == score.metadata.title].geo_division.values[0]\n",
    "        if region != \"Null\":\n",
    "            for part in score.parts:\n",
    "                for measure in part:\n",
    "                    if type(measure) is not stream.Measure:\n",
    "                        continue\n",
    "                    prev = None\n",
    "                    for note_ in measure:\n",
    "                        if type(note_) is not note.Note:\n",
    "                            continue\n",
    "                        if prev != None:\n",
    "                            if prev not in pitchclass_transition[region]:\n",
    "                                pitchclass_transition[region][prev] = {}\n",
    "                            if note_.name not in  pitchclass_transition[region][prev]:\n",
    "                                pitchclass_transition[region][prev][note_.name] = 1\n",
    "                            else:\n",
    "                                pitchclass_transition[region][prev][note_.name] += 1\n",
    "                        prev = note_.name\n",
    "                \n",
    "for geo_region in pitchclass_transition:\n",
    "    pitchclass_transition[geo_region] = {**pitchclass_transitions_defcount, **pitchclass_transition[geo_region]}"
   ]
  },
  {
   "cell_type": "markdown",
   "id": "completed-playlist",
   "metadata": {},
   "source": [
    "Now using the pitch class transitions in each division we create a network with pitch class as the nodes and creating an edge in case there is a transition between the nodes. The graph will be directed meaning there exists an edge only in the direction where the pitch transition occurs.\n",
    "\n",
    "We create the `plot_network` function to plot this network. The size of the nodes is dependent on the node degree (Degree of a node in a network is the number of connections it has to other nodes) and the thickness of edges is proportional to the count of transitions between those nodes. We also plot the transitions as heatmaps to help in the interpretation. To create them, we first convert the transition counts from a dictionary to a `DataFrame` and use it to plot the heatmap."
   ]
  },
  {
   "cell_type": "code",
   "execution_count": null,
   "id": "general-pointer",
   "metadata": {},
   "outputs": [],
   "source": [
    "plt.rcParams[\"figure.figsize\"] = (20,8)\n",
    "def plot_network(graph, ax):\n",
    "    weighted_degree = dict(graph.degree(weight='weight'))\n",
    "    edges = graph.edges()\n",
    "    weights = [0.002 * graph[u][v]['weight'] for u,v in edges]\n",
    "    nx.draw_circular(graph, with_labels=True, alpha = 0.6, width=weights,\n",
    "                  node_size=[v * 0.1 for v in weighted_degree.values()], ax=ax)\n",
    "    ax.axis(\"off\")"
   ]
  },
  {
   "cell_type": "code",
   "execution_count": null,
   "id": "muslim-liquid",
   "metadata": {},
   "outputs": [],
   "source": [
    "def sort_dict(item):\n",
    "    # function to sort a nested dictionary based on key\n",
    "    # credits: https://gist.github.com/gyli/f60f0374defc383aa098d44cfbd318eb\n",
    "    return {k: sort_dict(v) if isinstance(v, dict) else v for k, v in sorted(item.items())}\n",
    "\n",
    "colormap = sns.color_palette(\"light:b\", as_cmap=True)\n",
    "for gloc in geo_divisions:\n",
    "    fig, axes = plt.subplots(1,2)\n",
    "    gloc_graph = nx.DiGraph((k, v, {'weight': weight}) for k, vs in pitchclass_transition[gloc].items() for v, weight in vs.items())\n",
    "    axes[0].set_title(\"Pitch Class transition of {} region\".format(gloc))\n",
    "    plot_network(gloc_graph, axes[0])\n",
    "    \n",
    "    sorted_probs = sort_dict(pitchclass_transition[gloc])\n",
    "    gloc_matrix = pd.DataFrame.from_dict(sorted_probs).T.fillna(0)\n",
    "    gloc_matrix = gloc_matrix.reindex(sorted(gloc_matrix.columns), axis=1)\n",
    "    \n",
    "    ax1 = sns.heatmap(gloc_matrix, cmap= colormap, square=True, linecolor='black', linewidths=0.1, vmin=0)\n",
    "    axes[1] = ax1\n",
    "    ax1.set_title(\"Pitch Class transition probability of {} region\".format(gloc))\n",
    "    plt.show()\n",
    "    \n",
    "    print(\"--\"*80)"
   ]
  },
  {
   "cell_type": "markdown",
   "id": "medieval-treasury",
   "metadata": {},
   "source": [
    "The graphs and heatmaps above reveal both similarities and differences in the pitches transitions across the different regions. For instance, we can observe that in all regions, Bs and Gs are most often followed by an A. However, it also appears that while some regions make frequent use of consecutive As (e.g. Central and Southwest), others barely use that transition (e.g. Northwest and Neimeng). From the map provided in section 2.1, we can see that these regions sharing similarities also share borders. It also provides us with evidence the interval of transition is visibly different for each region. \n",
    "\n",
    "This analysis of pitch transitions thus gives a first difference in the organization of CFS and provides support to our hypothesis.\n",
    "\n",
    "## 3. Next Steps\n",
    "\n",
    "As we have found minimum evidence showing there are differences between the organization of the music in a different region, next we plan to quantitatively define these differences. Additionally, the heatmaps indicate to us that the interval between the pitches could also be an indicator of the music belonging to a region. Thus, in the next step, we shall look at intervals of transitions between the pitches in pieces belonging to each division to extract preferred intervals of songs for each division.\n",
    "\n",
    "## 4. Conclusion\n",
    "At the end of this explorative data analysis, we observe that only a few of the comparing methods we used show significant differences across the eight regions of China we defined. Only the pitch transitions provide some insight on this matter. However, there is still more analysis that we haven't performed now and that may reveal regional characteristics. For example, we have only plotted the pitch transitions but have not done it for the scale degrees. Moreover, while we have currently only computed the distribution of scale degrees by counting them, we will also take into account its duration and beat strength in the next milestone.\n",
    "\n",
    "Therefore, while our first results tend to refute our initial hypothesis, we hope that applying other methods and analyzing the results more precisely will bring more evidence of regional differences in the organization of CFS."
   ]
  },
  {
   "cell_type": "markdown",
   "id": "disturbed-seeking",
   "metadata": {},
   "source": [
    "## 5. References\n",
    "\n",
    "\n",
    "1. Essen Associative Code (EsAC) and folksong Database. http://www.esac-data.org/\n",
    "2. Huron, D. (1994). UNIX tools for musical research: The humdrum toolkit reference manual. Stanford, CA: Center for Computer Assisted Research in Humanities.\n",
    "3. Kern Scores, Folksongs from China. https://kern.humdrum.org/cgi-bin/browse?l=essen/asia/china \n",
    "4. Shi, Jiazi (2016), \"East Meets West: A Musical Analysis of Chinese Sights and Sounds, by Yuankai Bao\". LSU Doctoral Dissertations. 1762. https://digitalcommons.lsu.edu/gradschool_dissertations/1762\n",
    "5. Cuthbert, M. S., & Ariza, C. (2010). music21: A toolkit for computer-aided musicology and symbolic music data. https://dspace.mit.edu/handle/1721.1/84963"
   ]
  },
  {
   "cell_type": "code",
   "execution_count": null,
   "id": "amazing-upset",
   "metadata": {},
   "outputs": [],
   "source": []
  }
 ],
 "metadata": {
  "kernelspec": {
   "display_name": "Python 3",
   "language": "python",
   "name": "python3"
  },
  "language_info": {
   "codemirror_mode": {
    "name": "ipython",
    "version": 3
   },
   "file_extension": ".py",
   "mimetype": "text/x-python",
   "name": "python",
   "nbconvert_exporter": "python",
   "pygments_lexer": "ipython3",
   "version": "3.8.8"
  },
  "toc-autonumbering": false,
  "toc-showmarkdowntxt": false,
  "toc-showtags": false
 },
 "nbformat": 4,
 "nbformat_minor": 5
}
